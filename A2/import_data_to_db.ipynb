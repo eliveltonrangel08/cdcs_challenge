{
 "cells": [
  {
   "cell_type": "code",
   "execution_count": null,
   "metadata": {
    "collapsed": true
   },
   "outputs": [],
   "source": [
    "import psycopg2\n",
    "import os\n",
    "import pandas as pd\n",
    "from simpledbf import Dbf5\n",
    "import re\n",
    "import multiprocessing\n",
    "from threading import Thread\n",
    "import requests"
   ]
  },
  {
   "cell_type": "code",
   "execution_count": null,
   "outputs": [],
   "source": [
    "class DBConnection(object):\n",
    "    _db=None\n",
    "    def __init__(self, host, db, usr, pwd):\n",
    "        self._db = psycopg2.connect(host=host,\n",
    "                        user=usr,\n",
    "                        password=pwd,\n",
    "                        database=db)\n",
    "\n",
    "    def close_connection(self):\n",
    "        self._db.close()\n",
    "\n",
    "    def dml(self, sql):\n",
    "        try:\n",
    "            cur = self._db.cursor()\n",
    "            cur.execute(sql)\n",
    "            cur.close()\n",
    "            self._db.commit()\n",
    "        except Exception as e:\n",
    "            print(f\"SQLException dml: {e}\")\n",
    "            return False\n",
    "\n",
    "    def dml_many(self, sql, tpls):\n",
    "        try:\n",
    "            cur = self._db.cursor()\n",
    "            cur.executemany(sql, tpls)\n",
    "            cur.close()\n",
    "            self._db.commit()\n",
    "        except Exception as e:\n",
    "            print(f\"SQLException dml: {e}\")\n",
    "            return False\n",
    "\n",
    "    def query(self, sql):\n",
    "        rs = None\n",
    "        try:\n",
    "            cur = self._db.cursor()\n",
    "            cur.execute(sql)\n",
    "            rs = cur.fetchall()\n",
    "        except Exception as e:\n",
    "            print(f\"SQLException query: {e}\")\n",
    "            return False\n",
    "        return rs"
   ],
   "metadata": {
    "collapsed": false,
    "pycharm": {
     "name": "#%%\n"
    }
   }
  },
  {
   "cell_type": "code",
   "execution_count": null,
   "outputs": [],
   "source": [
    "db_conn = DBConnection(host='localhost', db='cdcs_challenge', usr='postgres', pwd='sergtsop')"
   ],
   "metadata": {
    "collapsed": false,
    "pycharm": {
     "name": "#%%\n"
    }
   }
  },
  {
   "cell_type": "code",
   "execution_count": null,
   "outputs": [],
   "source": [
    "# Inserindo os dados iniciais (registros das unidades federativas)\n",
    "\n",
    "ufs = db_conn.query(\"select * from unidade_federativa;\")\n",
    "\n",
    "if not len(ufs):\n",
    "    df = pd.read_csv('UF.csv')\n",
    "    if len(df):\n",
    "        for i, j in df.iterrows():\n",
    "            try:\n",
    "                sql = f\"INSERT INTO unidade_federativa values ({j['UF_COD']}, '{j['UF_NOME']}', '{j['UF_SIGLA']}', '{j['UF_REGIAO']}');\"\n",
    "                db_conn.dml(sql)\n",
    "            except Exception as e:\n",
    "                print(f\"SQLException: {e}\")"
   ],
   "metadata": {
    "collapsed": false,
    "pycharm": {
     "name": "#%%\n"
    }
   }
  },
  {
   "cell_type": "code",
   "execution_count": null,
   "outputs": [],
   "source": [
    "ufs_query = pd.read_sql_query(\"select * from unidade_federativa\", db_conn._db)\n",
    "ufs = pd.DataFrame(ufs_query)\n",
    "ufs"
   ],
   "metadata": {
    "collapsed": false,
    "pycharm": {
     "name": "#%%\n"
    }
   }
  },
  {
   "cell_type": "code",
   "execution_count": null,
   "outputs": [],
   "source": [
    "def get_uf_code(fname):\n",
    "    fsplit = fname.split('.dbf')[0]\n",
    "    ds, state, year, month = re.findall('..', fsplit)\n",
    "    # sigla = ufs[ufs.uf_sigla == initials]\n",
    "    sigla = ufs.query(f'uf_sigla == \"{state}\"')\n",
    "    return sigla['uf_cod']"
   ],
   "metadata": {
    "collapsed": false,
    "pycharm": {
     "name": "#%%\n"
    }
   }
  },
  {
   "cell_type": "code",
   "execution_count": null,
   "outputs": [],
   "source": [
    "f_path = '../A1/dbc_files'\n",
    "def dbf_file_2_dataframe(filename):\n",
    "    dbf = Dbf5(f'{f_path}/{filename}', codec='latin')\n",
    "    df = dbf.to_dataframe()\n",
    "    return df"
   ],
   "metadata": {
    "collapsed": false,
    "pycharm": {
     "name": "#%%\n"
    }
   }
  },
  {
   "cell_type": "code",
   "execution_count": null,
   "outputs": [],
   "source": [
    "def persist_data_in_db(filename):\n",
    "    print(f\"Reading {filename} data (dbf to dataframe)...\")\n",
    "    df = dbf_file_2_dataframe(f\"{filename}\")\n",
    "    initials = get_uf_code(filename).iloc[0]\n",
    "    df['UF_ID'] = initials\n",
    "    tpls = [tuple(x) for x in df.to_numpy()]\n",
    "    cols = ','.join(list(df.columns))\n",
    "    values_refs = ','.join(['%s' for x in range(len(df.columns))])\n",
    "    print(f\"making insert into script from {filename}...\")\n",
    "    sql = f\"INSERT INTO apac_medicamentos ({cols}) VALUES ({values_refs})\"\n",
    "    print(f\"Inserting data from {filename}...\")\n",
    "    db_conn.dml_many(sql, tpls)"
   ],
   "metadata": {
    "collapsed": false,
    "pycharm": {
     "name": "#%%\n"
    }
   }
  },
  {
   "cell_type": "code",
   "execution_count": null,
   "outputs": [],
   "source": [
    "f_names = [file for file in os.listdir(f_path) if file.endswith('.dbf')]\n"
   ],
   "metadata": {
    "collapsed": false,
    "pycharm": {
     "name": "#%%\n"
    }
   }
  },
  {
   "cell_type": "code",
   "execution_count": null,
   "outputs": [],
   "source": [
    "def print_fnames(fname):\n",
    "    print(f\"File {fname}\")"
   ],
   "metadata": {
    "collapsed": false,
    "pycharm": {
     "name": "#%%\n"
    }
   }
  },
  {
   "cell_type": "code",
   "execution_count": null,
   "outputs": [],
   "source": [
    "# def run_paralell():\n",
    "#     pool = multiprocessing.Pool(processes=len(f_names))\n",
    "#     pool.map(persist_data_in_db, f_names)"
   ],
   "metadata": {
    "collapsed": false,
    "pycharm": {
     "name": "#%%\n"
    }
   }
  },
  {
   "cell_type": "code",
   "execution_count": null,
   "outputs": [],
   "source": [
    "# run_paralell()"
   ],
   "metadata": {
    "collapsed": false,
    "pycharm": {
     "name": "#%%\n"
    }
   }
  },
  {
   "cell_type": "code",
   "execution_count": null,
   "outputs": [],
   "source": [
    "for fname in f_names:\n",
    "    Thread(target=persist_data_in_db(fname)).start()"
   ],
   "metadata": {
    "collapsed": false,
    "pycharm": {
     "name": "#%%\n"
    }
   }
  },
  {
   "cell_type": "code",
   "execution_count": null,
   "outputs": [],
   "source": [
    "db_conn.close_connection()"
   ],
   "metadata": {
    "collapsed": false,
    "pycharm": {
     "name": "#%%\n"
    }
   }
  }
 ],
 "metadata": {
  "kernelspec": {
   "display_name": "Python 3",
   "language": "python",
   "name": "python3"
  },
  "language_info": {
   "codemirror_mode": {
    "name": "ipython",
    "version": 2
   },
   "file_extension": ".py",
   "mimetype": "text/x-python",
   "name": "python",
   "nbconvert_exporter": "python",
   "pygments_lexer": "ipython2",
   "version": "2.7.6"
  }
 },
 "nbformat": 4,
 "nbformat_minor": 0
}